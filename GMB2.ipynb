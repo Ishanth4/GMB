{
 "cells": [
  {
   "cell_type": "code",
   "execution_count": 1,
   "id": "9265c623-bd14-4ba5-81fe-de09f6616f29",
   "metadata": {},
   "outputs": [
    {
     "name": "stdout",
     "output_type": "stream",
     "text": [
      "Requirement already satisfied: google-auth in c:\\users\\akhil\\anaconda3\\lib\\site-packages (2.29.0)\n",
      "Requirement already satisfied: google-auth-oauthlib in c:\\users\\akhil\\anaconda3\\lib\\site-packages (1.2.0)\n",
      "Requirement already satisfied: google-auth-httplib2 in c:\\users\\akhil\\anaconda3\\lib\\site-packages (0.2.0)\n",
      "Requirement already satisfied: requests in c:\\users\\akhil\\anaconda3\\lib\\site-packages (2.31.0)\n",
      "Requirement already satisfied: cachetools<6.0,>=2.0.0 in c:\\users\\akhil\\anaconda3\\lib\\site-packages (from google-auth) (4.2.2)\n",
      "Requirement already satisfied: pyasn1-modules>=0.2.1 in c:\\users\\akhil\\anaconda3\\lib\\site-packages (from google-auth) (0.2.8)\n",
      "Requirement already satisfied: rsa<5,>=3.1.4 in c:\\users\\akhil\\anaconda3\\lib\\site-packages (from google-auth) (4.9)\n",
      "Requirement already satisfied: requests-oauthlib>=0.7.0 in c:\\users\\akhil\\anaconda3\\lib\\site-packages (from google-auth-oauthlib) (2.0.0)\n",
      "Requirement already satisfied: httplib2>=0.19.0 in c:\\users\\akhil\\anaconda3\\lib\\site-packages (from google-auth-httplib2) (0.22.0)\n",
      "Requirement already satisfied: charset-normalizer<4,>=2 in c:\\users\\akhil\\anaconda3\\lib\\site-packages (from requests) (2.0.4)\n",
      "Requirement already satisfied: idna<4,>=2.5 in c:\\users\\akhil\\anaconda3\\lib\\site-packages (from requests) (3.4)\n",
      "Requirement already satisfied: urllib3<3,>=1.21.1 in c:\\users\\akhil\\anaconda3\\lib\\site-packages (from requests) (2.0.7)\n",
      "Requirement already satisfied: certifi>=2017.4.17 in c:\\users\\akhil\\anaconda3\\lib\\site-packages (from requests) (2024.2.2)\n",
      "Requirement already satisfied: pyparsing!=3.0.0,!=3.0.1,!=3.0.2,!=3.0.3,<4,>=2.4.2 in c:\\users\\akhil\\anaconda3\\lib\\site-packages (from httplib2>=0.19.0->google-auth-httplib2) (3.0.9)\n",
      "Requirement already satisfied: pyasn1<0.5.0,>=0.4.6 in c:\\users\\akhil\\anaconda3\\lib\\site-packages (from pyasn1-modules>=0.2.1->google-auth) (0.4.8)\n",
      "Requirement already satisfied: oauthlib>=3.0.0 in c:\\users\\akhil\\anaconda3\\lib\\site-packages (from requests-oauthlib>=0.7.0->google-auth-oauthlib) (3.2.2)\n",
      "Note: you may need to restart the kernel to use updated packages.\n"
     ]
    }
   ],
   "source": [
    "pip install google-auth google-auth-oauthlib google-auth-httplib2 requests"
   ]
  },
  {
   "cell_type": "code",
   "execution_count": 2,
   "id": "9db1fb4d-8835-460f-92db-7c47af3628ce",
   "metadata": {},
   "outputs": [],
   "source": [
    "from google.oauth2.credentials import Credentials\n",
    "from google_auth_oauthlib.flow import InstalledAppFlow\n",
    "import requests\n",
    "import json"
   ]
  },
  {
   "cell_type": "code",
   "execution_count": 4,
   "id": "384e2bfb-110b-4ad1-b6d2-ca8841f7f8f5",
   "metadata": {},
   "outputs": [
    {
     "ename": "SyntaxError",
     "evalue": "(unicode error) 'unicodeescape' codec can't decode bytes in position 2-3: truncated \\UXXXXXXXX escape (3898999108.py, line 2)",
     "output_type": "error",
     "traceback": [
      "\u001b[1;36m  Cell \u001b[1;32mIn[4], line 2\u001b[1;36m\u001b[0m\n\u001b[1;33m    'C:\\Users\\Akhil\\Downloads\\client_secret_180768640331-rum823uuljf5gvc97uuf4uifs1cp648h.apps.googleusercontent.com.json', SCOPES)\u001b[0m\n\u001b[1;37m                                                                                                                          ^\u001b[0m\n\u001b[1;31mSyntaxError\u001b[0m\u001b[1;31m:\u001b[0m (unicode error) 'unicodeescape' codec can't decode bytes in position 2-3: truncated \\UXXXXXXXX escape\n"
     ]
    }
   ],
   "source": [
    "flow = InstalledAppFlow.from_client_secrets_file(\n",
    "    'C:\\Users\\Akhil\\Downloads\\client_secret_180768640331-rum823uuljf5gvc97uuf4uifs1cp648h.apps.googleusercontent.com.json', SCOPES)"
   ]
  },
  {
   "cell_type": "code",
   "execution_count": 5,
   "id": "38dc6ac3-6f65-4f05-89fc-da4672fa13d9",
   "metadata": {},
   "outputs": [
    {
     "ename": "NameError",
     "evalue": "name 'SCOPES' is not defined",
     "output_type": "error",
     "traceback": [
      "\u001b[1;31m---------------------------------------------------------------------------\u001b[0m",
      "\u001b[1;31mNameError\u001b[0m                                 Traceback (most recent call last)",
      "Cell \u001b[1;32mIn[5], line 2\u001b[0m\n\u001b[0;32m      1\u001b[0m flow \u001b[38;5;241m=\u001b[39m InstalledAppFlow\u001b[38;5;241m.\u001b[39mfrom_client_secrets_file(\n\u001b[1;32m----> 2\u001b[0m     \u001b[38;5;124m'\u001b[39m\u001b[38;5;124mC:\u001b[39m\u001b[38;5;130;01m\\\\\u001b[39;00m\u001b[38;5;124mUsers\u001b[39m\u001b[38;5;130;01m\\\\\u001b[39;00m\u001b[38;5;124mAkhil\u001b[39m\u001b[38;5;130;01m\\\\\u001b[39;00m\u001b[38;5;124mDownloads\u001b[39m\u001b[38;5;130;01m\\\\\u001b[39;00m\u001b[38;5;124mclient_secret_180768640331-rum823uuljf5gvc97uuf4uifs1cp648h.apps.googleusercontent.com.json\u001b[39m\u001b[38;5;124m'\u001b[39m, SCOPES)\n",
      "\u001b[1;31mNameError\u001b[0m: name 'SCOPES' is not defined"
     ]
    }
   ],
   "source": [
    "flow = InstalledAppFlow.from_client_secrets_file(\n",
    "    'C:\\\\Users\\\\Akhil\\\\Downloads\\\\client_secret_180768640331-rum823uuljf5gvc97uuf4uifs1cp648h.apps.googleusercontent.com.json', SCOPES)"
   ]
  },
  {
   "cell_type": "code",
   "execution_count": 6,
   "id": "cf28fc71-91ab-43f2-8d7d-f52dcd0a2a48",
   "metadata": {},
   "outputs": [
    {
     "ename": "SyntaxError",
     "evalue": "(unicode error) 'unicodeescape' codec can't decode bytes in position 2-3: truncated \\UXXXXXXXX escape (1296869231.py, line 9)",
     "output_type": "error",
     "traceback": [
      "\u001b[1;36m  Cell \u001b[1;32mIn[6], line 9\u001b[1;36m\u001b[0m\n\u001b[1;33m    'C:\\Users\\Akhil\\Downloads\\client_secret_180768640331-rum823uuljf5gvc97uuf4uifs1cp648h.apps.googleusercontent.com.json', SCOPES)\u001b[0m\n\u001b[1;37m                                                                                                                          ^\u001b[0m\n\u001b[1;31mSyntaxError\u001b[0m\u001b[1;31m:\u001b[0m (unicode error) 'unicodeescape' codec can't decode bytes in position 2-3: truncated \\UXXXXXXXX escape\n"
     ]
    }
   ],
   "source": [
    "from google.oauth2.credentials import Credentials\n",
    "from google_auth_oauthlib.flow import InstalledAppFlow\n",
    "\n",
    "# Scopes required for the GMB API\n",
    "SCOPES = ['https://www.googleapis.com/auth/business.manage']\n",
    "\n",
    "# Start the OAuth flow to get the access token\n",
    "flow = InstalledAppFlow.from_client_secrets_file(\n",
    "    'C:\\Users\\Akhil\\Downloads\\client_secret_180768640331-rum823uuljf5gvc97uuf4uifs1cp648h.apps.googleusercontent.com.json', SCOPES)\n",
    "creds = flow.run_local_server(port=0)\n",
    "\n",
    "# Save the credentials for future use\n",
    "with open('token.json', 'w') as token:\n",
    "    token.write(creds.to_json())"
   ]
  },
  {
   "cell_type": "code",
   "execution_count": 7,
   "id": "7c188d6a-3f5d-47a4-8849-5f0f46ec068f",
   "metadata": {},
   "outputs": [
    {
     "ename": "NameError",
     "evalue": "name 'SCOPES' is not defined",
     "output_type": "error",
     "traceback": [
      "\u001b[1;31m---------------------------------------------------------------------------\u001b[0m",
      "\u001b[1;31mNameError\u001b[0m                                 Traceback (most recent call last)",
      "Cell \u001b[1;32mIn[7], line 2\u001b[0m\n\u001b[0;32m      1\u001b[0m flow \u001b[38;5;241m=\u001b[39m InstalledAppFlow\u001b[38;5;241m.\u001b[39mfrom_client_secrets_file(\n\u001b[1;32m----> 2\u001b[0m     \u001b[38;5;124m'\u001b[39m\u001b[38;5;124mC:\u001b[39m\u001b[38;5;130;01m\\\\\u001b[39;00m\u001b[38;5;124mUsers\u001b[39m\u001b[38;5;130;01m\\\\\u001b[39;00m\u001b[38;5;124mAkhil\u001b[39m\u001b[38;5;130;01m\\\\\u001b[39;00m\u001b[38;5;124mDownloads\u001b[39m\u001b[38;5;130;01m\\\\\u001b[39;00m\u001b[38;5;124mclient_secret_180768640331-rum823uuljf5gvc97uuf4uifs1cp648h.apps.googleusercontent.com.json\u001b[39m\u001b[38;5;124m'\u001b[39m, SCOPES)\n",
      "\u001b[1;31mNameError\u001b[0m: name 'SCOPES' is not defined"
     ]
    }
   ],
   "source": [
    "flow = InstalledAppFlow.from_client_secrets_file(\n",
    "    'C:\\\\Users\\\\Akhil\\\\Downloads\\\\client_secret_180768640331-rum823uuljf5gvc97uuf4uifs1cp648h.apps.googleusercontent.com.json', SCOPES)"
   ]
  },
  {
   "cell_type": "code",
   "execution_count": 8,
   "id": "00e5757c-7f0f-45ac-b822-bf15bcf65397",
   "metadata": {},
   "outputs": [
    {
     "name": "stdout",
     "output_type": "stream",
     "text": [
      "Requirement already satisfied: google-auth in c:\\users\\akhil\\anaconda3\\lib\\site-packages (2.29.0)\n",
      "Requirement already satisfied: google-auth-oauthlib in c:\\users\\akhil\\anaconda3\\lib\\site-packages (1.2.0)\n",
      "Requirement already satisfied: google-auth-httplib2 in c:\\users\\akhil\\anaconda3\\lib\\site-packages (0.2.0)\n",
      "Requirement already satisfied: requests in c:\\users\\akhil\\anaconda3\\lib\\site-packages (2.31.0)\n",
      "Requirement already satisfied: cachetools<6.0,>=2.0.0 in c:\\users\\akhil\\anaconda3\\lib\\site-packages (from google-auth) (4.2.2)\n",
      "Requirement already satisfied: pyasn1-modules>=0.2.1 in c:\\users\\akhil\\anaconda3\\lib\\site-packages (from google-auth) (0.2.8)\n",
      "Requirement already satisfied: rsa<5,>=3.1.4 in c:\\users\\akhil\\anaconda3\\lib\\site-packages (from google-auth) (4.9)\n",
      "Requirement already satisfied: requests-oauthlib>=0.7.0 in c:\\users\\akhil\\anaconda3\\lib\\site-packages (from google-auth-oauthlib) (2.0.0)\n",
      "Requirement already satisfied: httplib2>=0.19.0 in c:\\users\\akhil\\anaconda3\\lib\\site-packages (from google-auth-httplib2) (0.22.0)\n",
      "Requirement already satisfied: charset-normalizer<4,>=2 in c:\\users\\akhil\\anaconda3\\lib\\site-packages (from requests) (2.0.4)\n",
      "Requirement already satisfied: idna<4,>=2.5 in c:\\users\\akhil\\anaconda3\\lib\\site-packages (from requests) (3.4)\n",
      "Requirement already satisfied: urllib3<3,>=1.21.1 in c:\\users\\akhil\\anaconda3\\lib\\site-packages (from requests) (2.0.7)\n",
      "Requirement already satisfied: certifi>=2017.4.17 in c:\\users\\akhil\\anaconda3\\lib\\site-packages (from requests) (2024.2.2)\n",
      "Requirement already satisfied: pyparsing!=3.0.0,!=3.0.1,!=3.0.2,!=3.0.3,<4,>=2.4.2 in c:\\users\\akhil\\anaconda3\\lib\\site-packages (from httplib2>=0.19.0->google-auth-httplib2) (3.0.9)\n",
      "Requirement already satisfied: pyasn1<0.5.0,>=0.4.6 in c:\\users\\akhil\\anaconda3\\lib\\site-packages (from pyasn1-modules>=0.2.1->google-auth) (0.4.8)\n",
      "Requirement already satisfied: oauthlib>=3.0.0 in c:\\users\\akhil\\anaconda3\\lib\\site-packages (from requests-oauthlib>=0.7.0->google-auth-oauthlib) (3.2.2)\n"
     ]
    }
   ],
   "source": [
    "!pip install google-auth google-auth-oauthlib google-auth-httplib2 requests\n"
   ]
  },
  {
   "cell_type": "code",
   "execution_count": 9,
   "id": "4ac986b1-4df1-4db4-b68d-92ac8b65c7ae",
   "metadata": {},
   "outputs": [
    {
     "ename": "AttributeError",
     "evalue": "'InstalledAppFlow' object has no attribute 'run_console'",
     "output_type": "error",
     "traceback": [
      "\u001b[1;31m---------------------------------------------------------------------------\u001b[0m",
      "\u001b[1;31mAttributeError\u001b[0m                            Traceback (most recent call last)",
      "Cell \u001b[1;32mIn[9], line 18\u001b[0m\n\u001b[0;32m     14\u001b[0m \u001b[38;5;66;03m# Step 3: Obtain the OAuth 2.0 token\u001b[39;00m\n\u001b[0;32m     15\u001b[0m \u001b[38;5;66;03m# Run the OAuth flow to get the access token using run_console\u001b[39;00m\n\u001b[0;32m     16\u001b[0m flow \u001b[38;5;241m=\u001b[39m InstalledAppFlow\u001b[38;5;241m.\u001b[39mfrom_client_secrets_file(\n\u001b[0;32m     17\u001b[0m     \u001b[38;5;124mr\u001b[39m\u001b[38;5;124m'\u001b[39m\u001b[38;5;124mC:\u001b[39m\u001b[38;5;124m\\\u001b[39m\u001b[38;5;124mUsers\u001b[39m\u001b[38;5;124m\\\u001b[39m\u001b[38;5;124mAkhil\u001b[39m\u001b[38;5;124m\\\u001b[39m\u001b[38;5;124mDownloads\u001b[39m\u001b[38;5;124m\\\u001b[39m\u001b[38;5;124mclient_secret_180768640331-rum823uuljf5gvc97uuf4uifs1cp648h.apps.googleusercontent.com.json\u001b[39m\u001b[38;5;124m'\u001b[39m, SCOPES)\n\u001b[1;32m---> 18\u001b[0m creds \u001b[38;5;241m=\u001b[39m flow\u001b[38;5;241m.\u001b[39mrun_console()\n\u001b[0;32m     20\u001b[0m \u001b[38;5;66;03m# Save the credentials for future use\u001b[39;00m\n\u001b[0;32m     21\u001b[0m \u001b[38;5;28;01mwith\u001b[39;00m \u001b[38;5;28mopen\u001b[39m(\u001b[38;5;124m'\u001b[39m\u001b[38;5;124mtoken.json\u001b[39m\u001b[38;5;124m'\u001b[39m, \u001b[38;5;124m'\u001b[39m\u001b[38;5;124mw\u001b[39m\u001b[38;5;124m'\u001b[39m) \u001b[38;5;28;01mas\u001b[39;00m token:\n",
      "\u001b[1;31mAttributeError\u001b[0m: 'InstalledAppFlow' object has no attribute 'run_console'"
     ]
    }
   ],
   "source": [
    "# Step 1: Install the required libraries\n",
    "# Run this command in your terminal or command prompt if you haven't already:\n",
    "# !pip install google-auth google-auth-oauthlib google-auth-httplib2 requests\n",
    "\n",
    "# Step 2: Import the required libraries\n",
    "from google.oauth2.credentials import Credentials\n",
    "from google_auth_oauthlib.flow import InstalledAppFlow\n",
    "import requests\n",
    "import json\n",
    "\n",
    "# Scopes required for the GMB API\n",
    "SCOPES = ['https://www.googleapis.com/auth/business.manage']\n",
    "\n",
    "# Step 3: Obtain the OAuth 2.0 token\n",
    "# Run the OAuth flow to get the access token using run_console\n",
    "flow = InstalledAppFlow.from_client_secrets_file(\n",
    "    r'C:\\Users\\Akhil\\Downloads\\client_secret_180768640331-rum823uuljf5gvc97uuf4uifs1cp648h.apps.googleusercontent.com.json', SCOPES)\n",
    "creds = flow.run_console()\n",
    "\n",
    "# Save the credentials for future use\n",
    "with open('token.json', 'w') as token:\n",
    "    token.write(creds.to_json())\n",
    "\n",
    "# Step 4: Load the saved credentials\n",
    "with open('token.json', 'r') as token:\n",
    "    creds_data = json.load(token)\n",
    "\n",
    "credentials = Credentials(\n",
    "    token=creds_data['token'],\n",
    "    refresh_token=creds_data['refresh_token'],\n",
    "    token_uri=creds_data['token_uri'],\n",
    "    client_id=creds_data['client_id'],\n",
    "    client_secret=creds_data['client_secret'],\n",
    "    scopes=creds_data['scopes']\n",
    ")\n",
    "\n",
    "# Step 5: Make API requests to Google My Business\n",
    "url = 'https://mybusiness.googleapis.com/v4/accounts/9730451365644449919/locations'\n",
    "\n",
    "# Initialize the list to store locations\n",
    "locations = []\n",
    "next_page_token = None\n",
    "\n",
    "# Loop to handle pagination\n",
    "while True:\n",
    "    params = {'pageToken': next_page_token} if next_page_token else {}\n",
    "    response = requests.get(\n",
    "        url,\n",
    "        headers={'Authorization': f'Bearer {credentials.token}'},\n",
    "        params=params\n",
    "    )\n",
    "    \n",
    "    if response.status_code == 200:\n",
    "        data = response.json()\n",
    "        locations.extend(data.get('locations', []))\n",
    "        next_page_token = data.get('nextPageToken')\n",
    "        \n",
    "        if not next_page_token:\n",
    "            break\n",
    "    else:\n",
    "        print(f'Error: {response.status_code}')\n",
    "        print(response.text)\n",
    "        break\n",
    "\n",
    "# Output the retrieved locations\n",
    "print(locations)\n"
   ]
  },
  {
   "cell_type": "code",
   "execution_count": null,
   "id": "af387415-98f3-472b-9236-ccde6cce1655",
   "metadata": {},
   "outputs": [],
   "source": [
    "# Step 1: Install the required libraries\n",
    "# Run this command in your terminal or command prompt if you haven't already:\n",
    "# !pip install google-auth google-auth-oauthlib google-auth-httplib2 requests\n",
    "\n",
    "# Step 2: Import the required libraries\n",
    "from google.oauth2.credentials import Credentials\n",
    "from google_auth_oauthlib.flow import InstalledAppFlow\n",
    "import requests\n",
    "import json\n",
    "\n",
    "# Scopes required for the GMB API\n",
    "SCOPES = ['https://www.googleapis.com/auth/business.manage']\n",
    "\n",
    "# Step 3: Obtain the OAuth 2.0 token\n",
    "# Run the OAuth flow to get the access token using run_local_server\n",
    "flow = InstalledAppFlow.from_client_secrets_file(\n",
    "    r'C:\\Users\\Akhil\\Downloads\\client_secret_180768640331-rum823uuljf5gvc97uuf4uifs1cp648h.apps.googleusercontent.com.json', SCOPES)\n",
    "creds = flow.run_local_server(port=0)\n",
    "\n",
    "# Save the credentials for future use\n",
    "with open('token.json', 'w') as token:\n",
    "    token.write(creds.to_json())\n",
    "\n",
    "# Step 4: Load the saved credentials\n",
    "with open('token.json', 'r') as token:\n",
    "    creds_data = json.load(token)\n",
    "\n",
    "credentials = Credentials(\n",
    "    token=creds_data['token'],\n",
    "    refresh_token=creds_data['refresh_token'],\n",
    "    token_uri=creds_data[\"https://oauth2.googleapis.com/token\"],\n",
    "    client_id=creds_data[\"180768640331-rum823uuljf5gvc97uuf4uifs1cp648h.apps.googleusercontent.com\"],\n",
    "    client_secret=creds_data[\"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\"],\n",
    "    scopes=creds_data['scopes']\n",
    ")\n",
    "\n",
    "# Step 5: Make API requests to Google My Business\n",
    "url = 'https://mybusiness.googleapis.com/v4/accounts/9730451365644449919/locations'\n",
    "\n",
    "# Initialize the list to store locations\n",
    "locations = []\n",
    "next_page_token = None\n",
    "\n",
    "# Loop to handle pagination\n",
    "while True:\n",
    "    params = {'pageToken': next_page_token} if next_page_token else {}\n",
    "    response = requests.get(\n",
    "        url,\n",
    "        headers={'Authorization': f'Bearer {credentials.token}'},\n",
    "        params=params\n",
    "    )\n",
    "    \n",
    "    if response.status_code == 200:\n",
    "        data = response.json() \n",
    "        locations.extend(data.get('locations', []))\n",
    "        next_page_token = data.get('nextPageToken')\n",
    "        \n",
    "        if not next_page_token:\n",
    "            break\n",
    "    else: \n",
    "        print(f'Error: {response.status_code}')\n",
    "        print(response.text)\n",
    "        break\n",
    "\n",
    "# Output the retrieved locations\n",
    "print(locations)\n"
   ]
  },
  {
   "cell_type": "code",
   "execution_count": null,
   "id": "f0958343-9931-4977-b86c-8b6f30972ab9",
   "metadata": {},
   "outputs": [],
   "source": [
    "from google.oauth2.credentials import Credentials\n",
    "from google_auth_oauthlib.flow import InstalledAppFlow\n",
    "import requests\n",
    "import json\n",
    "\n",
    "# Scopes required for the GMB API\n",
    "SCOPES = ['https://www.googleapis.com/auth/drive.metadata.readonly']\n",
    "\n",
    "# Step 3: Obtain the OAuth 2.0 token\n",
    "# Run the OAuth flow to get the access token using run_local_server\n",
    "flow = InstalledAppFlow.from_client_secrets_file(\n",
    "    r'C:\\Users\\Akhil\\Downloads\\client_secret_180768640331-rum823uuljf5gvc97uuf4uifs1cp648h.apps.googleusercontent.com.json', SCOPES)\n",
    "creds = flow.run_local_server(port=0)\n",
    "\n",
    "# Save the credentials for future use\n",
    "with open('token.json', 'w') as token:\n",
    "    token.write(creds.to_json())"
   ]
  },
  {
   "cell_type": "code",
   "execution_count": null,
   "id": "885ded71-6e09-416d-aae0-c6fdf4ca3e00",
   "metadata": {},
   "outputs": [],
   "source": []
  }
 ],
 "metadata": {
  "kernelspec": {
   "display_name": "Python 3 (ipykernel)",
   "language": "python",
   "name": "python3"
  },
  "language_info": {
   "codemirror_mode": {
    "name": "ipython",
    "version": 3
   },
   "file_extension": ".py",
   "mimetype": "text/x-python",
   "name": "python",
   "nbconvert_exporter": "python",
   "pygments_lexer": "ipython3",
   "version": "3.11.7"
  }
 },
 "nbformat": 4,
 "nbformat_minor": 5
}
